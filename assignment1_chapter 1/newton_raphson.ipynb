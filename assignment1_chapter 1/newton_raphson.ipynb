{
 "cells": [
  {
   "cell_type": "code",
   "id": "initial_id",
   "metadata": {
    "collapsed": true,
    "ExecuteTime": {
     "end_time": "2025-05-31T17:06:50.945935Z",
     "start_time": "2025-05-31T17:06:50.927434Z"
    }
   },
   "source": [
    "\"\"\"\n",
    "f(x) is the function and g(x) is the derivative of the function\n",
    "\"\"\"\n",
    "def f(x):\n",
    "    return x ** 3 - 7 * x + 3\n",
    "\n",
    "def g(x):\n",
    "    return 3 * x ** 2 - 7\n"
   ],
   "outputs": [],
   "execution_count": 20
  },
  {
   "metadata": {
    "ExecuteTime": {
     "end_time": "2025-05-31T17:06:50.983199Z",
     "start_time": "2025-05-31T17:06:50.960169Z"
    }
   },
   "cell_type": "code",
   "source": [
    "def newton_raphson(x0, tol=0.005, max_iter=100):\n",
    "    i = 1 #iteration counter\n",
    "    print(\"Iter |    x0     |    x1     |   f(x1)   \")\n",
    "    # verify if derivative is zero to avoid division by zero\n",
    "    while i <= max_iter:\n",
    "        if g(x0) == 0:\n",
    "            print(\"Mathematical Error: Derivative is zero.\")\n",
    "            return None\n",
    "        #Apply the Newton-Raphson formula\n",
    "        x1 = x0 - f(x0) / g(x0)\n",
    "        f_x1 = f(x1)\n",
    "\n",
    "        print(f\"{i:4} | {x0:.6f} | {x1:.6f} | {f_x1:.6f}\")\n",
    "\n",
    "        if abs(f_x1) < tol:\n",
    "            print(f\"\\nRoot found (2 significant figures): {float(f'{x1:.2g}')}\")\n",
    "            return x1\n",
    "\n",
    "        x0 = x1\n",
    "        i += 1\n",
    "\n",
    "    return None"
   ],
   "id": "667ac949ee9f7ae7",
   "outputs": [],
   "execution_count": 21
  },
  {
   "metadata": {
    "ExecuteTime": {
     "end_time": "2025-05-31T17:06:51.020423Z",
     "start_time": "2025-05-31T17:06:51.006518Z"
    }
   },
   "cell_type": "code",
   "source": "newton_raphson(x0=3)",
   "id": "596999ed6b76d3c2",
   "outputs": [
    {
     "name": "stdout",
     "output_type": "stream",
     "text": [
      "Iter |    x0     |    x1     |   f(x1)   \n",
      "   1 | 3.000000 | 2.550000 | 1.731375\n",
      "   2 | 2.550000 | 2.411573 | 0.143937\n",
      "   3 | 2.411573 | 2.397795 | 0.001371\n",
      "\n",
      "Root found (2 significant figures): 2.4\n"
     ]
    },
    {
     "data": {
      "text/plain": [
       "2.3977953053762096"
      ]
     },
     "execution_count": 22,
     "metadata": {},
     "output_type": "execute_result"
    }
   ],
   "execution_count": 22
  },
  {
   "metadata": {
    "ExecuteTime": {
     "end_time": "2025-05-31T17:06:51.080608Z",
     "start_time": "2025-05-31T17:06:51.074681Z"
    }
   },
   "cell_type": "code",
   "source": "",
   "id": "587415ab24d0066a",
   "outputs": [],
   "execution_count": null
  }
 ],
 "metadata": {
  "kernelspec": {
   "display_name": "Python 3",
   "language": "python",
   "name": "python3"
  },
  "language_info": {
   "codemirror_mode": {
    "name": "ipython",
    "version": 2
   },
   "file_extension": ".py",
   "mimetype": "text/x-python",
   "name": "python",
   "nbconvert_exporter": "python",
   "pygments_lexer": "ipython2",
   "version": "2.7.6"
  }
 },
 "nbformat": 4,
 "nbformat_minor": 5
}
