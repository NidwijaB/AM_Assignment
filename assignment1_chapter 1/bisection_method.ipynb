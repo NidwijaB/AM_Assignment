{
 "cells": [
  {
   "cell_type": "code",
   "id": "initial_id",
   "metadata": {
    "collapsed": true,
    "ExecuteTime": {
     "end_time": "2025-05-31T17:05:07.994210Z",
     "start_time": "2025-05-31T17:05:07.980580Z"
    }
   },
   "source": [
    "import math\n",
    "\n",
    "def f(x):\n",
    "    return x**2 * math.sin(x) + math.exp(-x) - 3 #the function\n"
   ],
   "outputs": [],
   "execution_count": 48
  },
  {
   "metadata": {
    "ExecuteTime": {
     "end_time": "2025-05-31T17:05:08.064763Z",
     "start_time": "2025-05-31T17:05:08.045692Z"
    }
   },
   "cell_type": "code",
   "source": [
    "\n",
    "def bisection_method(a, b, tol=0.005, max_iter=100):\n",
    "    if f(a) * f(b) >= 0:\n",
    "        print(f\"Bisection method fails: f(a): {f(a)} and f(b): {f(b)} must have opposite signs.\")\n",
    "        return None\n",
    "    print(\"BISECTION METHOD\")\n",
    "    print(\"Iter ||     a    ||     b    ||    x_mid ||   f(x_mid) \")\n",
    "    print(\"-------------------------------------------------------\")\n",
    "    for i in range(1, max_iter + 1): #starting the iterations to calculate the root\n",
    "        # Calculate midpoint of the interval and evaluate its function\n",
    "        x_mid = (a + b) / 2.0\n",
    "        f_mid = f(x_mid)\n",
    "\n",
    "\n",
    "        print(f\"{i:4} || {a:.6f} || {b:.6f} || {x_mid:.6f} || {f_mid:.6e}\")\n",
    "        # Check if the result is within the tolerance or interval is small enough\n",
    "        if abs(f_mid) < tol or (b - a) / 2 < tol:\n",
    "            return x_mid\n",
    "\n",
    "        if f(a) * f_mid < 0:\n",
    "            b = x_mid # Root lies between a and midpoint\n",
    "        else:\n",
    "            a = x_mid # Root lies between midpoint and b\n",
    "\n",
    "    return None\n"
   ],
   "id": "1b480eb28ac21fda",
   "outputs": [],
   "execution_count": 49
  },
  {
   "metadata": {
    "ExecuteTime": {
     "end_time": "2025-05-31T17:05:08.115219Z",
     "start_time": "2025-05-31T17:05:08.102868Z"
    }
   },
   "cell_type": "code",
   "source": [
    "root = bisection_method(a=1, b=2, tol=0.005)\n",
    "print(f\"Approximate root: {root:.3g}\")"
   ],
   "id": "fae40e0b86751f5e",
   "outputs": [
    {
     "name": "stdout",
     "output_type": "stream",
     "text": [
      "BISECTION METHOD\n",
      "Iter ||     a    ||     b    ||    x_mid ||   f(x_mid) \n",
      "-------------------------------------------------------\n",
      "   1 || 1.000000 || 2.000000 || 1.500000 || -5.325061e-01\n",
      "   2 || 1.500000 || 2.000000 || 1.750000 || 1.872309e-01\n",
      "   3 || 1.500000 || 1.750000 || 1.625000 || -1.663415e-01\n",
      "   4 || 1.625000 || 1.750000 || 1.687500 || 1.326747e-02\n",
      "   5 || 1.625000 || 1.687500 || 1.656250 || -7.599225e-02\n",
      "   6 || 1.656250 || 1.687500 || 1.671875 || -3.120636e-02\n",
      "   7 || 1.671875 || 1.687500 || 1.679688 || -8.927934e-03\n",
      "   8 || 1.679688 || 1.687500 || 1.683594 || 2.180461e-03\n",
      "Approximate root: 1.68\n"
     ]
    }
   ],
   "execution_count": 50
  },
  {
   "metadata": {
    "ExecuteTime": {
     "end_time": "2025-05-31T17:05:08.149803Z",
     "start_time": "2025-05-31T17:05:08.144077Z"
    }
   },
   "cell_type": "code",
   "source": "",
   "id": "48e10cfbfc636501",
   "outputs": [],
   "execution_count": null
  }
 ],
 "metadata": {
  "kernelspec": {
   "display_name": "Python 3",
   "language": "python",
   "name": "python3"
  },
  "language_info": {
   "codemirror_mode": {
    "name": "ipython",
    "version": 2
   },
   "file_extension": ".py",
   "mimetype": "text/x-python",
   "name": "python",
   "nbconvert_exporter": "python",
   "pygments_lexer": "ipython2",
   "version": "2.7.6"
  }
 },
 "nbformat": 4,
 "nbformat_minor": 5
}
