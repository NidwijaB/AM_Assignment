{
 "cells": [
  {
   "cell_type": "code",
   "id": "initial_id",
   "metadata": {
    "collapsed": true,
    "ExecuteTime": {
     "end_time": "2025-05-31T16:56:28.519941Z",
     "start_time": "2025-05-31T16:56:28.515716Z"
    }
   },
   "source": [
    "def f(x):\n",
    "    return x**2 - 4*x - 10\n"
   ],
   "outputs": [],
   "execution_count": 18
  },
  {
   "metadata": {
    "ExecuteTime": {
     "end_time": "2025-05-31T16:56:28.561362Z",
     "start_time": "2025-05-31T16:56:28.554331Z"
    }
   },
   "cell_type": "code",
   "source": [
    "\n",
    "def secant_method(x1, x2, tol=0.005, max_iter=100):\n",
    "    print(\"SECANT METHOD\")\n",
    "    print(\"Iter |    x1    |    x2    |    x0    |   f(x0)  \")\n",
    "    print(\"-------------------------------------------------\")\n",
    "    for i in range(1, max_iter + 1):\n",
    "        f_x1 = f(x1)\n",
    "        f_x2 = f(x2)\n",
    "\n",
    "        if f_x2 - f_x1 == 0:\n",
    "            print(\"Division by zero error in iteration\", i)\n",
    "            return None\n",
    "\n",
    "        x0 = x2 - f_x2 * (x2 - x1) / (f_x2 - f_x1)\n",
    "        f_x0 = f(x0)\n",
    "\n",
    "        print(f\"{i:4} | {x1:.6f} | {x2:.6f} | {x0:.6f} | {f_x0:.6f}\")\n",
    "\n",
    "        if abs(f_x0) < tol:\n",
    "            return x0\n",
    "\n",
    "        x1, x2 = x2, x0\n",
    "\n",
    "    return None\n"
   ],
   "id": "cf8d670c0e63782a",
   "outputs": [],
   "execution_count": 19
  },
  {
   "metadata": {
    "ExecuteTime": {
     "end_time": "2025-05-31T16:56:28.577373Z",
     "start_time": "2025-05-31T16:56:28.571494Z"
    }
   },
   "cell_type": "code",
   "source": [
    "# Initial guesses\n",
    "root = secant_method(x1=4, x2=2)\n",
    "\n",
    "if root is not None:\n",
    "    print(f\"\\nApproximate root (2 significant figures): {float(f'{root:.2g}')}\")"
   ],
   "id": "1bcee3a4b380e519",
   "outputs": [
    {
     "name": "stdout",
     "output_type": "stream",
     "text": [
      "SECANT METHOD\n",
      "Iter |    x1    |    x2    |    x0    |   f(x0)  \n",
      "-------------------------------------------------\n",
      "   1 | 4.000000 | 2.000000 | 9.000000 | 35.000000\n",
      "   2 | 2.000000 | 9.000000 | 4.000000 | -10.000000\n",
      "   3 | 9.000000 | 4.000000 | 5.111111 | -4.320988\n",
      "   4 | 4.000000 | 5.111111 | 5.956522 | 1.654064\n",
      "   5 | 5.111111 | 5.956522 | 5.722488 | -0.143083\n",
      "   6 | 5.956522 | 5.722488 | 5.741121 | -0.004014\n",
      "\n",
      "Approximate root (2 significant figures): 5.7\n"
     ]
    }
   ],
   "execution_count": 20
  }
 ],
 "metadata": {
  "kernelspec": {
   "display_name": "Python 3",
   "language": "python",
   "name": "python3"
  },
  "language_info": {
   "codemirror_mode": {
    "name": "ipython",
    "version": 2
   },
   "file_extension": ".py",
   "mimetype": "text/x-python",
   "name": "python",
   "nbconvert_exporter": "python",
   "pygments_lexer": "ipython2",
   "version": "2.7.6"
  }
 },
 "nbformat": 4,
 "nbformat_minor": 5
}
