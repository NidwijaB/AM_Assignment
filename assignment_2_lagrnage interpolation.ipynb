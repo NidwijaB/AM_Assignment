{
 "cells": [
  {
   "cell_type": "code",
   "id": "initial_id",
   "metadata": {
    "collapsed": true,
    "ExecuteTime": {
     "end_time": "2025-06-21T17:32:10.530151Z",
     "start_time": "2025-06-21T17:32:10.521046Z"
    }
   },
   "source": [
    "def lagrange_interpolation(x, x_values, y_values):\n",
    "    \"\"\"\n",
    "    calculate the interpolated value at x using Lagrange's interpolation.\n",
    "\n",
    "    Parameters:\n",
    "        x        : float, the point at which to interpolate.\n",
    "        x_values : list of floats, the x-coordinates of the data points.\n",
    "        y_values : list of floats, the corresponding y-coordinates.\n",
    "\n",
    "    Returns:\n",
    "        float, the interpolated value at x.\n",
    "    \"\"\"\n",
    "    n = len(x_values)\n",
    "    interpolated_value = 0.0\n",
    "    for i in range(n):\n",
    "        term = y_values[i]\n",
    "        for j in range(n):\n",
    "            if i != j:\n",
    "                term *= (x - x_values[j]) / (x_values[i] - x_values[j])\n",
    "        interpolated_value += term\n",
    "\n",
    "    return interpolated_value\n"
   ],
   "outputs": [],
   "execution_count": 3
  },
  {
   "metadata": {
    "ExecuteTime": {
     "end_time": "2025-06-21T17:32:10.582365Z",
     "start_time": "2025-06-21T17:32:10.573921Z"
    }
   },
   "cell_type": "code",
   "source": [
    "\n",
    "x_values = [0, 1, 2, 3]\n",
    "y_values = [1, 3, 2, 5]\n",
    "#example value interpolate at\n",
    "x = 1.5\n",
    "result = lagrange_interpolation(x, x_values, y_values)\n",
    "print(\"Interpolated value at x =\", x, \"is\", result)"
   ],
   "id": "a641edcfccd550d3",
   "outputs": [
    {
     "name": "stdout",
     "output_type": "stream",
     "text": [
      "Interpolated value at x = 1.5 is 2.4375\n"
     ]
    }
   ],
   "execution_count": 4
  },
  {
   "metadata": {
    "ExecuteTime": {
     "end_time": "2025-06-21T17:32:10.696146Z",
     "start_time": "2025-06-21T17:32:10.691244Z"
    }
   },
   "cell_type": "code",
   "source": "",
   "id": "c1a0cee0bd0c77fa",
   "outputs": [],
   "execution_count": null
  },
  {
   "metadata": {
    "ExecuteTime": {
     "end_time": "2025-06-21T17:32:10.775090Z",
     "start_time": "2025-06-21T17:32:10.768412Z"
    }
   },
   "cell_type": "code",
   "source": "",
   "id": "7e0cf1191e324ea3",
   "outputs": [],
   "execution_count": null
  }
 ],
 "metadata": {
  "kernelspec": {
   "display_name": "Python 3",
   "language": "python",
   "name": "python3"
  },
  "language_info": {
   "codemirror_mode": {
    "name": "ipython",
    "version": 2
   },
   "file_extension": ".py",
   "mimetype": "text/x-python",
   "name": "python",
   "nbconvert_exporter": "python",
   "pygments_lexer": "ipython2",
   "version": "2.7.6"
  }
 },
 "nbformat": 4,
 "nbformat_minor": 5
}
